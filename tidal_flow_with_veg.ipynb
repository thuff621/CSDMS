{
 "cells": [
  {
   "cell_type": "markdown",
   "metadata": {},
   "source": [
    "# Tidal flow and vegetation interactions\n",
    "\n",
    "*(modified from Greg Tucker, August 2020)*\n",
    "\n",
    "This tutorial explains how the `TidalFlowCalculator` Landlab component can be combined with a range of vegetation modeling approaches to describe salt marsh dynamics. We will start with the simplest vegetation formulation and then add complexity to see how the results change. Depending on the simulation temporal scale, sometimes the differences between vegetation modeling approaches may not affect the results but over time, the integrated ecogeomorphic dynamics become more pronounced and more sophisticated models of vegetation become necessary to capture the role of plants in the salt marsh system."
   ]
  },
  {
   "cell_type": "markdown",
   "metadata": {},
   "source": [
    "## Theory\n",
    "\n",
    "The `TidalFlowCalculator` computes a tidal-cycle averaged flow velocity field, given a topography (bathymetry), mean sea level, tidal range, and tidal period. The approach that the component uses is based on Mariotti (2018). The idea is to calculate a flow velocity field that is just sufficient to bring in (flood tide) or send out (ebb tide) all of the water that enters or leaves the system during one tidal cycle. We will not discuss the numerical background of this component here. For more information, see the Tidal Flow Calculator Landlab tutorial.\n",
    "\n",
    "In reality, tidal flow across a wetland landscape depends on the underlying bathymtery and roughness that is largely self-organized by ecological processes. Salt marsh environments are a mosaic of marsh plains, tidal channels, and unvegetated pools. The interaction of tides, waves, and storms and the resultant sediment transport which occur at temporal timescales on the order of seconds to hours interact with biogeochemical and ecological processes which occur at timescales on the order of days to years to form and maintain this unique ecotone."
   ]
  },
  {
   "cell_type": "markdown",
   "metadata": {},
   "source": [
    "# Creating the domain\n",
    "\n",
    "First we will start with a simple gridded domain that consists of a flat marsh plain intersected by a single channel, identical to a case presented in the Tidal Flow Calculator tutorial. The first codeblocks import the libraries we will need and create our plotting functions."
   ]
  },
  {
   "cell_type": "code",
   "execution_count": null,
   "metadata": {},
   "outputs": [],
   "source": [
    "# imports\n",
    "import matplotlib.pyplot as plt\n",
    "import numpy as np\n",
    "\n",
    "from landlab import RasterModelGrid, imshow_grid\n",
    "from landlab.components import TidalFlowCalculator"
   ]
  },
  {
   "cell_type": "code",
   "execution_count": null,
   "metadata": {},
   "outputs": [],
   "source": [
    "from landlab.grid.mappers import map_link_vector_components_to_node\n",
    "\n",
    "\n",
    "def map_velocity_components_to_nodes(grid):\n",
    "    \"\"\"Map the velocity components from the links to the nodes, and return the node arrays.\"\"\"\n",
    "    ebb_vel_x, ebb_vel_y = map_link_vector_components_to_node(\n",
    "        grid, grid.at_link[\"ebb_tide_flow__velocity\"]\n",
    "    )\n",
    "    flood_vel_x = -ebb_vel_x\n",
    "    flood_vel_y = -ebb_vel_y\n",
    "    return (ebb_vel_x, ebb_vel_y, flood_vel_x, flood_vel_y)\n",
    "\n",
    "\n",
    "def plot_tidal_flow(grid, resample=1):\n",
    "    (ebb_x, ebb_y, flood_x, flood_y) = map_velocity_components_to_nodes(grid)\n",
    "\n",
    "    # depth\n",
    "    plt.figure()\n",
    "    imshow_grid(\n",
    "        grid, grid.at_node[\"mean_water__depth\"], cmap=\"YlGnBu\", color_for_closed=\"g\"\n",
    "    )\n",
    "    plt.title(\"Water depth (m)\")\n",
    "    plt.xlabel(\"Distance (m)\")\n",
    "    plt.ylabel(\"Distance (m)\")\n",
    "\n",
    "    # elevation \n",
    "    plt.figure()\n",
    "    imshow_grid(\n",
    "        grid, grid.at_node[\"topographic__elevation\"], cmap=\"YlGnBu\", color_for_closed=\"g\"\n",
    "    )\n",
    "    plt.title(\"Topo elev (m)\")\n",
    "    plt.xlabel(\"Distance (m)\")\n",
    "    plt.ylabel(\"Distance (m)\")\n",
    "\n",
    "    # down-sample for legible quiver plots if needed\n",
    "    if resample != 1:\n",
    "        xr = grid.x_of_node.reshape(\n",
    "            (grid.number_of_node_rows, grid.number_of_node_columns)\n",
    "        )[::resample, ::resample]\n",
    "        yr = grid.y_of_node.reshape(\n",
    "            (grid.number_of_node_rows, grid.number_of_node_columns)\n",
    "        )[::resample, ::resample]\n",
    "        ebb_xr = ebb_x.reshape((grid.number_of_node_rows, grid.number_of_node_columns))[\n",
    "            ::resample, ::resample\n",
    "        ]\n",
    "        ebb_yr = ebb_y.reshape((grid.number_of_node_rows, grid.number_of_node_columns))[\n",
    "            ::resample, ::resample\n",
    "        ]\n",
    "        fld_xr = flood_x.reshape(\n",
    "            (grid.number_of_node_rows, grid.number_of_node_columns)\n",
    "        )[::resample, ::resample]\n",
    "        fld_yr = flood_y.reshape(\n",
    "            (grid.number_of_node_rows, grid.number_of_node_columns)\n",
    "        )[::resample, ::resample]\n",
    "    else:\n",
    "        xr = grid.x_of_node\n",
    "        yr = grid.y_of_node\n",
    "        ebb_xr = ebb_x\n",
    "        ebb_yr = ebb_y\n",
    "        fld_xr = flood_x\n",
    "        fld_yr = flood_y\n",
    "\n",
    "    # ebb tide\n",
    "    plt.figure()\n",
    "    imshow_grid(grid, grid.at_node[\"topographic__elevation\"])\n",
    "    plt.quiver(xr, yr, ebb_xr, ebb_yr)\n",
    "    plt.title(\"Ebb Tide\")\n",
    "    plt.xlabel(\"Distance (m)\")\n",
    "    plt.ylabel(\"Distance (m)\")\n",
    "\n",
    "    ebb_vel_magnitude = np.sqrt(ebb_x * ebb_x + ebb_y * ebb_y)\n",
    "    plt.figure()\n",
    "    imshow_grid(grid, ebb_vel_magnitude, cmap=\"magma\", color_for_closed=\"g\")\n",
    "    plt.title(\"Ebb Tide Velocity Magnitude (m/s)\")\n",
    "    plt.xlabel(\"Distance (m)\")\n",
    "    plt.ylabel(\"Distance (m)\")\n",
    "\n",
    "    # flood tide\n",
    "    plt.figure()\n",
    "    imshow_grid(grid, grid.at_node[\"topographic__elevation\"])\n",
    "    plt.quiver(xr, yr, fld_xr, fld_yr)\n",
    "    plt.title(\"Flood Tide\")\n",
    "    plt.xlabel(\"Distance (m)\")\n",
    "    plt.ylabel(\"Distance (m)\")\n",
    "\n",
    "    plt.figure()\n",
    "    flood_vel_magnitude = np.sqrt(flood_x * flood_x + flood_y * flood_y)\n",
    "    imshow_grid(grid, flood_vel_magnitude, cmap=\"magma\", color_for_closed=\"g\")\n",
    "    plt.title(\"Flood Tide Velocity Magnitude (m/s)\")\n",
    "    plt.xlabel(\"Distance (m)\")\n",
    "    plt.ylabel(\"Distance (m)\")"
   ]
  },
  {
   "cell_type": "markdown",
   "metadata": {},
   "source": [
    "In this example, vegetation is assumed to occur only on the marsh plain and is uniformly dense such that the Manning's roughness coefficient is equal to 0.2."
   ]
  },
  {
   "cell_type": "code",
   "execution_count": null,
   "metadata": {},
   "outputs": [],
   "source": [
    "from landlab.grid.mappers import map_max_of_link_nodes_to_link\n",
    "\n",
    "# parameters\n",
    "nrows = 400\n",
    "ncols = 200\n",
    "grid_spacing = 2.0  # m\n",
    "marsh_height = 0.6  # m\n",
    "channel_depth = 0.6  # m\n",
    "tidal_range = 1.2192  # m\n",
    "tidal_period = 12.5 * 3600.0  # s\n",
    "open_nodes = np.arange(\n",
    "    94, 105, dtype=int\n",
    ")  # IDs of open-boundary nodes (along channel at bottom/south boundary)\n",
    "roughness_shallow = 0.2  # Manning's n for areas above mean sea level (i.e., the marsh)\n",
    "roughness_deep = 0.01  # Manning's n for areas below mean sea level (i.e., the channel)\n",
    "\n",
    "# create and set up the grid\n",
    "grid = RasterModelGrid((nrows, ncols), xy_spacing=grid_spacing)\n",
    "z = grid.add_zeros(\"topographic__elevation\", at=\"node\", clobber=True)\n",
    "z[grid.core_nodes] = marsh_height\n",
    "channel = np.logical_and(grid.x_of_node >= 188.0, grid.x_of_node <= 208.0)\n",
    "z[channel] = -channel_depth\n",
    "grid.set_closed_boundaries_at_grid_edges(True, True, True, True)\n",
    "grid.status_at_node[open_nodes] = grid.BC_NODE_IS_FIXED_VALUE\n",
    "\n",
    "# set up roughness field (calculate on nodes, then map to links)\n",
    "roughness_at_nodes = roughness_shallow + np.zeros(z.size)\n",
    "roughness_at_nodes[z < 0.0] = roughness_deep\n",
    "roughness = grid.add_zeros(\"roughness\", at=\"link\", clobber=True)\n",
    "estimated_biomass = grid.add_zeros(\"biomass\", at=\"node\", clobber=True)\n",
    "map_max_of_link_nodes_to_link(grid, roughness_at_nodes, out=roughness)\n",
    "\n",
    "# instantiate the TidalFlowCalculator\n",
    "tfc = TidalFlowCalculator(\n",
    "    grid, tidal_range=tidal_range, tidal_period=tidal_period, roughness=\"roughness\"\n",
    ")\n",
    "\n",
    "# run it\n",
    "tfc.run_one_step()\n",
    "\n",
    "# make plots...\n",
    "plot_tidal_flow(grid, resample=10)"
   ]
  },
  {
   "cell_type": "markdown",
   "metadata": {},
   "source": [
    "This shows a snapshot of peak velocities at flood and ebb tide and the maximum depth of water at high tide. "
   ]
  },
  {
   "cell_type": "markdown",
   "metadata": {},
   "source": [
    "However, marsh plains are not uniformly flat and serve to connect to the uplands. Let's adjust our bathymetry to reflect a mild slope between the channel edge and the boundary."
   ]
  },
  {
   "cell_type": "code",
   "execution_count": null,
   "metadata": {},
   "outputs": [],
   "source": [
    "marsh_max_height = 0.75\n",
    "marsh_min_height = 0.25\n",
    "marsh_slope = (marsh_max_height - marsh_min_height)/(400 - 208)\n",
    "z[grid.x_of_node < 188] = marsh_max_height - marsh_slope * grid.x_of_node[grid.x_of_node < 188]\n",
    "z[grid.x_of_node > 208] = marsh_min_height + marsh_slope * (grid.x_of_node[grid.x_of_node > 208] - 208)\n",
    "\n",
    "# instantiate the TidalFlowCalculator\n",
    "tfc_slope = TidalFlowCalculator(\n",
    "    grid, tidal_range=tidal_range, tidal_period=tidal_period, roughness=\"roughness\"\n",
    ")\n",
    "\n",
    "# run it\n",
    "tfc_slope.run_one_step()\n",
    "\n",
    "# make plots...\n",
    "plot_tidal_flow(grid, resample=10)"
   ]
  },
  {
   "cell_type": "markdown",
   "metadata": {},
   "source": [
    "As you can see, adding a sloped marsh plain concentrates zone of measurable tidal velocity closer to the channel. However, the zone of greatest velocity remains in the channel. The maximum depth is increased closer to the channel but the change over one tidal cycle in subtle. In actuality, vegetation productivity on the marsh plain is strongly controlled by the inundation duration. In many simple ecogeomorphic marsh models, the relationship is described with a parabolic deterministic relationship between inundation and peak biomass. The peak biomass directly relates to the roughness."
   ]
  },
  {
   "cell_type": "markdown",
   "metadata": {},
   "source": [
    "First we need to calculate the inundation time per tidal period. This equation taken from Hickey et al 2019 and used by the Cohort Marsh Equilibrium Model (Vahesen et al., 2024) is used to calculate the inundation time as a function of tidal datums and elevation."
   ]
  },
  {
   "cell_type": "code",
   "execution_count": null,
   "metadata": {},
   "outputs": [],
   "source": [
    "#' Calculate flood time using trigonometric method\n",
    "#'\n",
    "#' This function calculates flood time in hours from an elevation, and a high and low tidal datum. \n",
    "#' @param z a numeric, elevation of the marsh\n",
    "#' @param datumHigh a numeric, highest water level of the tidal period\n",
    "#' @param datumLow a numeric, lowest water level of the tidal period\n",
    "#' @param tidalCycleLength a numeric, the length of time of the tidal cycle. This is set to 1 so that it estimates fractional flood time\n",
    "#' \n",
    "#' @references Hickey, R. (2019). Tidal inundation modeling within GIS. Journal of Coastal Conservation, 23(3), 599-606.\n",
    "#' @references Department of the Navy. Hydrographic Branch. 1994. Australian National Tide Tables: Australia, Papua & New Guinea, Australian Hydrographic Publication 11.\n",
    "#'  \n",
    "#' @return a numeric, flood time per tidal period\n",
    "#' @export\n",
    "def floodTimeTrig(z, datum_high, datum_low, tidal_period = 12.5):\n",
    "  \n",
    "  # If elevation is above the tidal range indation time is 0\n",
    "  datum_high[z>=datum_high] = z[z>=datum_high]\n",
    "  \n",
    "  # If elevation is below inundation time is a full tidal cycle\n",
    "  datum_low[z<=datum_low] = z[z<=datum_low]\n",
    "  \n",
    "  # Rising time over cell = 6.21 (A/pi - 1)\t\n",
    "  # where A = 2* pi - cos-1 [2 (height of cell – meanLowWater) / (meanHighWater – meanLowWater) - 1] radians\n",
    "  A1 = 2 * np.pi - np.arccos(2 * (z - datum_low) / (datum_high - datum_low) - 1)\n",
    "  rising_time = tidal_period / 2 * (A1 / np.pi - 1)\n",
    "  \n",
    "  # Falling time over cell = 6.21 (A/pi - 1) where\n",
    "  # A = 2* - cos-1 [2 (height of cell – meanHighWater) / (meanLowWater – meanHighWater) - 1] radians\n",
    "  A2 = 2 * np.pi - np.arccos(2 * (z - datum_high) / (datum_low - datum_high) - 1)\n",
    "  falling_time = tidal_period / 2 * (A2 / np.pi - 1)\n",
    "  \n",
    "  # If between inundation time = abs (time rising - 6.21) + time falling\n",
    "  inundation_time = np.abs(rising_time - tidal_period/2) + falling_time\n",
    "  \n",
    "  return inundation_time"
   ]
  },
  {
   "cell_type": "markdown",
   "metadata": {},
   "source": [
    "Here we use the grid and tidal flow component settings to calculate the inundation time across the grid for one tidal period. "
   ]
  },
  {
   "cell_type": "code",
   "execution_count": null,
   "metadata": {},
   "outputs": [],
   "source": [
    "grid_inundation = floodTimeTrig(z, datum_high=tidal_range / 2 * np.ones_like(z), datum_low= -tidal_range / 2 * np.ones_like(z), tidal_period=tidal_period/3600)\n",
    "plt.figure()\n",
    "imshow_grid(\n",
    "    grid, grid_inundation, cmap=\"YlGnBu\", color_for_closed=\"g\"\n",
    ")"
   ]
  },
  {
   "cell_type": "markdown",
   "metadata": {},
   "source": [
    "Using the deterministic relationship between biomass and annual inundation time, we can estimate the biomass and relate that back to roughness to demonstrate how vegetation roughness combines with bathymetry to influence tidal velocities."
   ]
  },
  {
   "cell_type": "code",
   "execution_count": null,
   "metadata": {},
   "outputs": [],
   "source": [
    "def solve_biomass_inundation_curve(\n",
    "        inundation, \n",
    "        biomass_max=np.array([2500]), \n",
    "        inun_veg_max=np.array([3]), \n",
    "        inun_veg_min=np.array([-1]), \n",
    "        inun_veg_peak=np.nan\n",
    "        ):\n",
    "  # Stop the function if there are invalid parameters\n",
    "    if (\n",
    "        (np.any(biomass_max < 0)) \n",
    "        | (np.any(inun_veg_max <= np.fmax(inun_veg_min, inun_veg_peak))) \n",
    "        | (np.any(inun_veg_min >= np.fmax(inun_veg_max, inun_veg_peak)))\n",
    "        ):\n",
    "       return (\"Invalid parameters were defined.\")\n",
    "    else:\n",
    "        conditions = [\n",
    "          np.isnan(inun_veg_peak),\n",
    "          (z <= inun_veg_peak),\n",
    "          (z > inun_veg_peak)\n",
    "        ]\n",
    "      # If there is no peak elevation for vegetation parabola is symmetric.\n",
    "        midpoint = (inun_veg_max - inun_veg_min) / 2\n",
    "        upper_z_veg_min = inun_veg_peak-((inun_veg_max-inun_veg_peak)) \n",
    "        lower_z_veg_max = inun_veg_peak+((inun_veg_peak-inun_veg_min))\n",
    "      \n",
    "        # From bmax, min, and max elevation limits, solve for parameters of a parabola.\n",
    "        a_choices  = [\n",
    "          (-inun_veg_min * biomass_max - inun_veg_max * biomass_max) / ((inun_veg_min - midpoint) * (-inun_veg_max + midpoint)),\n",
    "          -((-inun_veg_min * biomass_max - lower_z_veg_max * biomass_max) / ((inun_veg_min - inun_veg_peak) * (-lower_z_veg_max + inun_veg_peak))),\n",
    "          -((-upper_z_veg_min * biomass_max - inun_veg_max * biomass_max) / ((upper_z_veg_min - inun_veg_peak) * (-inun_veg_max + inun_veg_peak)))\n",
    "        ]\n",
    "\n",
    "        b_choices = [\n",
    "          -(biomass_max / ((inun_veg_min - inun_veg_peak) * (-inun_veg_max + inun_veg_peak))),\n",
    "          -(biomass_max / ((inun_veg_min - inun_veg_peak) * (-lower_z_veg_max + inun_veg_peak))),\n",
    "          -(biomass_max / ((upper_z_veg_min - inun_veg_peak) * (-inun_veg_max + inun_veg_peak)))\n",
    "        ]\n",
    "\n",
    "        c_choices = [\n",
    "          (inun_veg_min * inun_veg_max * biomass_max) / ((inun_veg_min - inun_veg_peak) * (inun_veg_max - inun_veg_peak)),\n",
    "          (inun_veg_min * lower_z_veg_max * biomass_max) / ((inun_veg_min - inun_veg_peak) * (lower_z_veg_max - inun_veg_peak)),\n",
    "          (upper_z_veg_min * inun_veg_max * biomass_max) / ((upper_z_veg_min - inun_veg_peak) * (inun_veg_max - inun_veg_peak))\n",
    "        ]\n",
    "        \n",
    "        a = np.select(conditions, a_choices)\n",
    "        b = np.select(conditions, b_choices)\n",
    "        c = np.select(conditions, c_choices)\n",
    "        # Apply parabolic function to elevation to calulate above ground biomass.\n",
    "        abg = a * inundation + b * inundation**2 + c\n",
    "        abg[abg < 0] = 0.0\n",
    "    return abg"
   ]
  },
  {
   "cell_type": "code",
   "execution_count": null,
   "metadata": {},
   "outputs": [],
   "source": [
    "max_inundation = np.ones_like(grid_inundation) * 11.5\n",
    "min_inundation = np.zeros_like(grid_inundation)\n",
    "inundation_at_peak_biomass = np.ones_like(grid_inundation) * 2.5\n",
    "estimated_biomass[:] = solve_biomass_inundation_curve(grid_inundation, np.ones_like(grid_inundation) * 700, max_inundation, min_inundation, inundation_at_peak_biomass)\n",
    "plt.figure()\n",
    "imshow_grid(\n",
    "    grid, estimated_biomass, cmap=\"YlGnBu\", color_for_closed=\"g\"\n",
    ")\n"
   ]
  },
  {
   "cell_type": "markdown",
   "metadata": {},
   "source": [
    "To calculate roughness, we typically use stem density and diameter to estimate Manning's coefficient based on laboratory and field studies. Since flow conditions on marshes are in the laminar to transitional range under normal tidal forcing, Manning's coefficient is not constant and varies with depth and velocity. However, for simplicity we will assume a constant drag coefficient that varies with biomass and depth using the following formula from Luhar and Nepf (2013) for emergent vegetation: \n",
    "$$ n = K_n (\\frac{C_dah} {2g}\\,) h^{1/6} $$\n",
    "\n",
    "$n$ is the Mannin'g coefficient, $K_n$ is the units adjustment, $C_d$ is the bulk drag coefficient, $a$ is the frontal area per unit bed area calculated from the stem density and diameter, $g$ is the acceleration due to ravity, and $h$ is the water depth. We are neglecting vegetation flexibility since typical tidal velocities on the marsh plain are very small. "
   ]
  },
  {
   "cell_type": "code",
   "execution_count": null,
   "metadata": {},
   "outputs": [],
   "source": [
    "# Typical stem diameter for Sparina alterniflora in m\n",
    "stem_diameter = 0.006\n",
    "stem_height = 0.7\n",
    "# density - biomass relationship from Morris and Haskin 1990\n",
    "stem_density = np.array([0, 500, 2250])\n",
    "biomass = np.array([0, 50, 700])\n",
    "grid_stem_density = np.interp(estimated_biomass, biomass, stem_density)\n",
    "grid_a = stem_diameter * grid_stem_density\n",
    "drag_coefficient = 1.2\n",
    "\n",
    "variable_mannings = (\n",
    "    1 * (drag_coefficient * grid_a\n",
    "    * stem_height / (2 * 9.81) * stem_diameter**(1/6))\n",
    ")\n",
    "variable_mannings[variable_mannings < 0.01] = 0.01\n",
    "plt.figure()\n",
    "imshow_grid(\n",
    "    grid, variable_mannings, cmap=\"YlGnBu\", color_for_closed=\"g\"\n",
    ")"
   ]
  },
  {
   "cell_type": "code",
   "execution_count": null,
   "metadata": {},
   "outputs": [],
   "source": [
    "map_max_of_link_nodes_to_link(grid, variable_mannings, out=roughness)\n",
    "# instantiate the TidalFlowCalculator\n",
    "tfc_variable_roughness = TidalFlowCalculator(\n",
    "    grid, tidal_range=tidal_range, tidal_period=tidal_period, roughness=\"roughness\"\n",
    ")\n",
    "\n",
    "# run it\n",
    "tfc_variable_roughness.run_one_step()\n",
    "\n",
    "# make plots...\n",
    "plot_tidal_flow(grid, resample=10)"
   ]
  },
  {
   "cell_type": "markdown",
   "metadata": {},
   "source": [
    "The addition of variable roughness alters the flow paths across the marsh but not in a easily discernable way. Let's add some additional feedbacks to look at how marshes respond morphologically."
   ]
  },
  {
   "cell_type": "markdown",
   "metadata": {},
   "source": [
    "# Accretionary feedbacks\n",
    "\n",
    "In real marshes, vegetation not only slows tidal velocities, it also traps sediments as well as builds up organic biomass in the soil. These allochotonous and autochotonous accretionary processes combine producing vegetation and tide mediated elevation changes over time."
   ]
  },
  {
   "cell_type": "code",
   "execution_count": null,
   "metadata": {},
   "outputs": [],
   "source": [
    "# Simple sediment deposition function (no hydraulics)\n",
    "\n",
    "def estimate_allochtonous_deposition_per_year(estimated_biomass, peak_biomass=700, suspended_sediment=40, density_sediment=2650*(1-0.7)):\n",
    "    suspended_sediment_kg_m3 = suspended_sediment / 1000\n",
    "    depth = grid.at_node[\"mean_water__depth\"]\n",
    "    capture_efficiency = grid.at_node[\"biomass\"] / peak_biomass\n",
    "    #capture_efficiency[capture_efficiency<=0] = 0.05\n",
    "    sed_deposition = suspended_sediment_kg_m3 * depth * capture_efficiency / density_sediment\n",
    "    return sed_deposition\n",
    "\n",
    "# Simple biologically generated accretion\n",
    "\n",
    "def estimate_autochthonous_deposition_per_year(biomass, peak_biomass=700):\n",
    "    max_auto_rate = 6 / 1000\n",
    "    adjustment = max_auto_rate / peak_biomass\n",
    "    auto_accretion_per_tide = biomass * adjustment\n",
    "    return auto_accretion_per_tide"
   ]
  },
  {
   "cell_type": "markdown",
   "metadata": {},
   "source": [
    "Now let's add in some (very) simplified accretion to look at how vegetation affects marsh morphology over several years."
   ]
  },
  {
   "cell_type": "code",
   "execution_count": null,
   "metadata": {},
   "outputs": [],
   "source": [
    "# Saving initial depth\n",
    "intial_elev = grid.at_node[\"topographic__elevation\"].copy()"
   ]
  },
  {
   "cell_type": "code",
   "execution_count": null,
   "metadata": {},
   "outputs": [],
   "source": [
    "for _ in range(10):\n",
    "    z += (estimate_allochtonous_deposition_per_year(estimated_biomass) + estimate_autochthonous_deposition_per_year(estimated_biomass))\n",
    "    grid_inundation = floodTimeTrig(z, datum_high=tidal_range / 2 * np.ones_like(z), datum_low= -tidal_range / 2 * np.ones_like(z), tidal_period=tidal_period/3600)\n",
    "    estimated_biomass = solve_biomass_inundation_curve(grid_inundation, np.ones_like(grid_inundation) * 700, max_inundation, min_inundation, inundation_at_peak_biomass)\n",
    "    grid_stem_density = np.interp(estimated_biomass, biomass, stem_density)\n",
    "    grid_a = stem_diameter * grid_stem_density\n",
    "    variable_mannings = (\n",
    "        1 * (drag_coefficient * grid_a\n",
    "        * stem_height / (2 * 9.81) * stem_diameter**(1/6))\n",
    "    )\n",
    "    variable_mannings[variable_mannings < 0.01] = 0.01\n",
    "    map_max_of_link_nodes_to_link(grid, variable_mannings, out=roughness)\n",
    "    tfc_variable_roughness.run_one_step()    "
   ]
  },
  {
   "cell_type": "code",
   "execution_count": null,
   "metadata": {},
   "outputs": [],
   "source": [
    "plot_tidal_flow(grid, resample=10)"
   ]
  },
  {
   "cell_type": "code",
   "execution_count": null,
   "metadata": {},
   "outputs": [],
   "source": [
    "dz_final = grid.at_node[\"topographic__elevation\"] - intial_elev\n",
    "imshow_grid(grid, dz_final)"
   ]
  },
  {
   "cell_type": "markdown",
   "metadata": {},
   "source": [
    "We know this is a dramatically simplified approach but it illustrates how many marsh models consider vegetation effects. In the next section we will explore a more complex consideration of marsh processes. "
   ]
  },
  {
   "cell_type": "markdown",
   "metadata": {},
   "source": [
    "# Python MarshMorpho2d\n",
    "The USACE Ecomod team has worked to develop a preliminary Python implemntation of the Mariotti's (2018) MarshMorpho2D and integrate this with LandLab. This is a first step towards implementing a componentized implementation a coastal wetland ecogeomorphic model in Landlab. The goal is to facilitate advancement of coastal wetland modeling as well as enable these models to be coupled with existing data and modeling outputs.\n",
    "\n",
    "Additional parmeters are needed in addition to the LandLab tidal_flow_calculator, mainly the definition of closed vs open boudaries to define the erodable domain.\n"
   ]
  },
  {
   "cell_type": "code",
   "execution_count": null,
   "metadata": {},
   "outputs": [],
   "source": [
    "from pyMM2D.pymarshmorpho2d import pymm2d\n",
    "from tqdm import tqdm\n",
    "import warnings # This is to help get around some versioning issues.\n",
    "warnings.simplefilter(action='ignore', category=FutureWarning)\n",
    "\n",
    "\n",
    "grid.at_node[\"topographic__elevation\"] = np.copy(z) # setup z \n",
    "\n",
    "# grid boundaries. For this example we are closing all boundaries except the \"bottom\" boundary to allow\n",
    "# tidal exchange.\n",
    "grid.set_closed_boundaries_at_grid_edges(right_is_closed=True,\n",
    "                                               top_is_closed=True,\n",
    "                                               left_is_closed=True,\n",
    "                                               bottom_is_closed=False)\n",
    "\n",
    "# function to define the closed boundaries and also stop the very edge of the boundary from eroding. \n",
    "def complete_domain(model_domain):\n",
    "    checkDomain = np.reshape(model_domain, grid.shape)\n",
    "    domainIndex = np.reshape(range(0,len(model_domain)), grid.shape)\n",
    "    if len(checkDomain[checkDomain[:,0] == 2]) == len(checkDomain[:,0])-2:\n",
    "        print(\"The model is open along the left edge\")\n",
    "        checkDomain[:,0] = 2\n",
    "    if len(checkDomain[checkDomain[:,-1] == 2]) == len(checkDomain[:,-1])-2:\n",
    "        print(\"The model is open along the Right edge\")\n",
    "        checkDomain[:,-1] = 2\n",
    "    updated_bndry_nodes = domainIndex[checkDomain ==2]\n",
    "    return(checkDomain, updated_bndry_nodes)\n",
    "\n",
    "\n",
    "model_domain = np.copy(z)\n",
    "model_domain[:] = 1\n",
    "model_domain, bndryNodes = complete_domain(model_domain)\n",
    "\n",
    "# define the elevation at the active domain boundaries. If this is not defined, excessive erosion will occure.\n",
    "boundaryTopo = z.flatten()[bndryNodes]"
   ]
  },
  {
   "cell_type": "markdown",
   "metadata": {},
   "source": [
    "Once the model domains and erodable area has been defined we can call the MarshMorpho2D package (pymm2d) and provide the necessary information to run the model."
   ]
  },
  {
   "cell_type": "code",
   "execution_count": null,
   "metadata": {},
   "outputs": [],
   "source": [
    "mev = pymm2d(grid, model_domain=model_domain, boundaryValues = boundaryTopo, runMEM=False, roughness = tfc_variable_roughness._roughness)\n",
    "\n",
    "print(\"Starting main loop\")\n",
    "for i in tqdm(range(10), colour = \"green\"):\n",
    "# for i in range(10):\n",
    "    slr = 4 # annual sea level rise in mm\n",
    "    mev.run_one_step(timeStep = 1, round = i, model_domain = model_domain, relative_sea_level_rise_rate_mmPerYr = slr,\n",
    "                      roughness = tfc_variable_roughness._roughness) \n",
    "    grid.at_node[\"topographic__elevation\"] = mev._elev\n",
    "    if i == 0:\n",
    "        testEle = (mev._elev) # record the inital state for comparison\n",
    "\n",
    "# make plots...\n",
    "plot_tidal_flow(grid, resample=10)"
   ]
  }
 ],
 "metadata": {
  "kernelspec": {
   "display_name": "Python 3 (ipykernel)",
   "language": "python",
   "name": "python3"
  },
  "language_info": {
   "codemirror_mode": {
    "name": "ipython",
    "version": 3
   },
   "file_extension": ".py",
   "mimetype": "text/x-python",
   "name": "python",
   "nbconvert_exporter": "python",
   "pygments_lexer": "ipython3",
   "version": "3.10.8"
  }
 },
 "nbformat": 4,
 "nbformat_minor": 4
}
