{
 "cells": [
  {
   "cell_type": "markdown",
   "id": "b4bfa95e-516a-443a-b034-7317f35074f3",
   "metadata": {},
   "source": [
    "## PyMarshMorpho2D Beta\n",
    "The python implementation of MarshMorpho2D utilizes a translated version of Mariotti's original Matlab code coupled with Landlab's model grid structure and the tidalFlowCalculator. "
   ]
  }
 ],
 "metadata": {
  "kernelspec": {
   "display_name": "Python 3 (ipykernel)",
   "language": "python",
   "name": "python3"
  },
  "language_info": {
   "codemirror_mode": {
    "name": "ipython",
    "version": 3
   },
   "file_extension": ".py",
   "mimetype": "text/x-python",
   "name": "python",
   "nbconvert_exporter": "python",
   "pygments_lexer": "ipython3",
   "version": "3.10.12"
  }
 },
 "nbformat": 4,
 "nbformat_minor": 5
}
